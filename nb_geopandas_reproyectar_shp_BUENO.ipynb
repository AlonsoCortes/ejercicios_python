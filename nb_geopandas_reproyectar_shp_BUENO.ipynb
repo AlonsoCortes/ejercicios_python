{
 "cells": [
  {
   "cell_type": "code",
   "execution_count": 1,
   "metadata": {},
   "outputs": [],
   "source": [
    "\"\"\"\n",
    "\n",
    "Reproyectar Capas Espaciales\n",
    "Este script reproyecta capas espaciales (.shp) a un EPSG definido por el usuario \n",
    "anidadas en subcarpetas sobreescribiendolas con el mismo nombre\n",
    "\n",
    "\"\"\"\n",
    "import os\n",
    "import geopandas as gpd"
   ]
  },
  {
   "cell_type": "code",
   "execution_count": 2,
   "metadata": {},
   "outputs": [],
   "source": [
    "# Especifica el EPSG objetivo\n",
    "epsg_obj = 6370\n",
    "# Ruta al directorio raíz (cambia esto por tu ruta) \n",
    "directorio_raiz = r\"C:/Users/COMIMSA/Desktop/Capas/\""
   ]
  },
  {
   "cell_type": "code",
   "execution_count": 3,
   "metadata": {},
   "outputs": [
    {
     "name": "stdout",
     "output_type": "stream",
     "text": [
      "Iterando directorios\n",
      "Reproyectando: C:/Users/COMIMSA/Desktop/Capas/A-04-13_Amenaza por marea de tormenta\\04004_AMTORMENTA.shp\n"
     ]
    },
    {
     "name": "stderr",
     "output_type": "stream",
     "text": [
      "c:\\Users\\COMIMSA\\miniconda3\\envs\\gds\\lib\\site-packages\\geopandas\\io\\file.py:299: FutureWarning: pandas.Int64Index is deprecated and will be removed from pandas in a future version. Use pandas.Index with the appropriate dtype instead.\n",
      "  pd.Int64Index,\n"
     ]
    },
    {
     "name": "stdout",
     "output_type": "stream",
     "text": [
      "Capa vectorial reproyectada y sobrescrita: C:/Users/COMIMSA/Desktop/Capas/A-04-13_Amenaza por marea de tormenta\\04004_AMTORMENTA.shp\n",
      "Reproyectando: C:/Users/COMIMSA/Desktop/Capas/A-04-18_Presencia de Regiones Kársticas\\04004_REGION_KARSTICA.shp\n"
     ]
    },
    {
     "name": "stderr",
     "output_type": "stream",
     "text": [
      "c:\\Users\\COMIMSA\\miniconda3\\envs\\gds\\lib\\site-packages\\geopandas\\io\\file.py:299: FutureWarning: pandas.Int64Index is deprecated and will be removed from pandas in a future version. Use pandas.Index with the appropriate dtype instead.\n",
      "  pd.Int64Index,\n"
     ]
    },
    {
     "name": "stdout",
     "output_type": "stream",
     "text": [
      "Capa vectorial reproyectada y sobrescrita: C:/Users/COMIMSA/Desktop/Capas/A-04-18_Presencia de Regiones Kársticas\\04004_REGION_KARSTICA.shp\n",
      "Reproyectando: C:/Users/COMIMSA/Desktop/Capas/A-04-20_Sumatoria de Riesgos en la Red Vial\\04004_SINTESIS_VIAS.shp\n"
     ]
    },
    {
     "name": "stderr",
     "output_type": "stream",
     "text": [
      "c:\\Users\\COMIMSA\\miniconda3\\envs\\gds\\lib\\site-packages\\geopandas\\io\\file.py:299: FutureWarning: pandas.Int64Index is deprecated and will be removed from pandas in a future version. Use pandas.Index with the appropriate dtype instead.\n",
      "  pd.Int64Index,\n"
     ]
    },
    {
     "name": "stdout",
     "output_type": "stream",
     "text": [
      "Capa vectorial reproyectada y sobrescrita: C:/Users/COMIMSA/Desktop/Capas/A-04-20_Sumatoria de Riesgos en la Red Vial\\04004_SINTESIS_VIAS.shp\n",
      "Reproyectando: C:/Users/COMIMSA/Desktop/Capas/MB_Mapa Base\\C00000_red-ferroviaria-nacional_ARTF_2024.shp\n",
      "La capa C:/Users/COMIMSA/Desktop/Capas/MB_Mapa Base\\C00000_red-ferroviaria-nacional_ARTF_2024.shp ya está en EPSG:6370. Saltando...\n",
      "Reproyectando: C:/Users/COMIMSA/Desktop/Capas/MB_Mapa Base\\C00000_red-nacional-caminos_INEGI-2024.shp\n",
      "La capa C:/Users/COMIMSA/Desktop/Capas/MB_Mapa Base\\C00000_red-nacional-caminos_INEGI-2024.shp ya está en EPSG:6370. Saltando...\n",
      "Reproyectando: C:/Users/COMIMSA/Desktop/Capas/MB_Mapa Base\\C00_ADVC_CONANP_2025.shp\n",
      "La capa C:/Users/COMIMSA/Desktop/Capas/MB_Mapa Base\\C00_ADVC_CONANP_2025.shp ya está en EPSG:6370. Saltando...\n",
      "Reproyectando: C:/Users/COMIMSA/Desktop/Capas/MB_Mapa Base\\C00_cirva-nivel-20m_PIMUS_2025.shp\n",
      "La capa C:/Users/COMIMSA/Desktop/Capas/MB_Mapa Base\\C00_cirva-nivel-20m_PIMUS_2025.shp ya está en EPSG:6370. Saltando...\n",
      "Reproyectando: C:/Users/COMIMSA/Desktop/Capas/MB_Mapa Base\\C00_control_capas_PMDU_2025.shp\n",
      "La capa C:/Users/COMIMSA/Desktop/Capas/MB_Mapa Base\\C00_control_capas_PMDU_2025.shp ya está en EPSG:6370. Saltando...\n",
      "Reproyectando: C:/Users/COMIMSA/Desktop/Capas/MB_Mapa Base\\C00_estaciones_tren_maya_SEDEMA_2024.shp\n",
      "La capa C:/Users/COMIMSA/Desktop/Capas/MB_Mapa Base\\C00_estaciones_tren_maya_SEDEMA_2024.shp ya está en EPSG:6370. Saltando...\n",
      "Reproyectando: C:/Users/COMIMSA/Desktop/Capas/MB_Mapa Base\\C00_puntos_interes_INEGI_2024.shp\n",
      "La capa C:/Users/COMIMSA/Desktop/Capas/MB_Mapa Base\\C00_puntos_interes_INEGI_2024.shp ya está en EPSG:6370. Saltando...\n",
      "Reproyectando: C:/Users/COMIMSA/Desktop/Capas/MB_Mapa Base\\C00_ruta_tren_maya_SEDEMA_2024.shp\n",
      "La capa C:/Users/COMIMSA/Desktop/Capas/MB_Mapa Base\\C00_ruta_tren_maya_SEDEMA_2024.shp ya está en EPSG:6370. Saltando...\n",
      "Reproyectando: C:/Users/COMIMSA/Desktop/Capas/MB_Mapa Base\\C04000_poligonos-localidades-amanzanadas_INEGI_2024.shp\n",
      "La capa C:/Users/COMIMSA/Desktop/Capas/MB_Mapa Base\\C04000_poligonos-localidades-amanzanadas_INEGI_2024.shp ya está en EPSG:6370. Saltando...\n",
      "Reproyectando: C:/Users/COMIMSA/Desktop/Capas/MB_Mapa Base\\C04000_poligonos-manzanas_INEGI_2024.shp\n",
      "La capa C:/Users/COMIMSA/Desktop/Capas/MB_Mapa Base\\C04000_poligonos-manzanas_INEGI_2024.shp ya está en EPSG:6370. Saltando...\n",
      "Reproyectando: C:/Users/COMIMSA/Desktop/Capas/MB_Mapa Base\\C04000_poligonos-municipales-vecinos_INEGI_2024.shp\n",
      "La capa C:/Users/COMIMSA/Desktop/Capas/MB_Mapa Base\\C04000_poligonos-municipales-vecinos_INEGI_2024.shp ya está en EPSG:6370. Saltando...\n",
      "Reproyectando: C:/Users/COMIMSA/Desktop/Capas/MB_Mapa Base\\C04004_ejevial_INEGI_2021.shp\n",
      "La capa C:/Users/COMIMSA/Desktop/Capas/MB_Mapa Base\\C04004_ejevial_INEGI_2021.shp ya está en EPSG:6370. Saltando...\n",
      "Reproyectando: C:/Users/COMIMSA/Desktop/Capas/MB_Mapa Base\\C04004_poligono-municipal-champoton_INEGI_2024.shp\n",
      "La capa C:/Users/COMIMSA/Desktop/Capas/MB_Mapa Base\\C04004_poligono-municipal-champoton_INEGI_2024.shp ya está en EPSG:6370. Saltando...\n",
      "Reproyectando: C:/Users/COMIMSA/Desktop/Capas/MB_Mapa Base\\C04_anp_estatales_CONANP_2024.shp\n"
     ]
    },
    {
     "name": "stderr",
     "output_type": "stream",
     "text": [
      "c:\\Users\\COMIMSA\\miniconda3\\envs\\gds\\lib\\site-packages\\geopandas\\io\\file.py:299: FutureWarning: pandas.Int64Index is deprecated and will be removed from pandas in a future version. Use pandas.Index with the appropriate dtype instead.\n",
      "  pd.Int64Index,\n"
     ]
    },
    {
     "name": "stdout",
     "output_type": "stream",
     "text": [
      "Capa vectorial reproyectada y sobrescrita: C:/Users/COMIMSA/Desktop/Capas/MB_Mapa Base\\C04_anp_estatales_CONANP_2024.shp\n",
      "Reproyectando: C:/Users/COMIMSA/Desktop/Capas/MB_Mapa Base\\C04_corriente_agua_INEGI_2024.shp\n",
      "La capa C:/Users/COMIMSA/Desktop/Capas/MB_Mapa Base\\C04_corriente_agua_INEGI_2024.shp ya está en EPSG:6370. Saltando...\n",
      "Reproyectando: C:/Users/COMIMSA/Desktop/Capas/MB_Mapa Base\\C04_cuerpos_agua250_INEGI_2024.shp\n",
      "La capa C:/Users/COMIMSA/Desktop/Capas/MB_Mapa Base\\C04_cuerpos_agua250_INEGI_2024.shp ya está en EPSG:6370. Saltando...\n",
      "Proceso finalizado\n"
     ]
    }
   ],
   "source": [
    "# Funciones a ocupar\n",
    "def reproyectar_shp(ruta_entrada, epsg_destino):\n",
    "    print(f\"Reproyectando: {ruta_entrada}\")\n",
    "    \n",
    "    # Cargar la capa vectorial\n",
    "    gdf = gpd.read_file(ruta_entrada)\n",
    "    \n",
    "    # Verificar si ya está en el CRS destino\n",
    "    if gdf.crs and gdf.crs.to_epsg() == int(epsg_destino):\n",
    "        print(f\"La capa {ruta_entrada} ya está en EPSG:{epsg_destino}. Saltando...\")\n",
    "        return\n",
    "    \n",
    "    # Reproyectar y sobrescribir el archivo\n",
    "    gdf = gdf.to_crs(epsg=int(epsg_destino))\n",
    "    gdf.to_file(ruta_entrada, driver=\"ESRI Shapefile\")\n",
    "    print(f\"Capa vectorial reproyectada y sobrescrita: {ruta_entrada}\")\n",
    "\n",
    "def procesar_directorio(root_dir, epsg_destino= epsg_obj):\n",
    "    print(\"Iterando directorios\")\n",
    "    \n",
    "    for root, _, files in os.walk(root_dir):\n",
    "        for file in files:\n",
    "            if file.lower().endswith('.shp'):\n",
    "                ruta_completa = os.path.join(root, file)\n",
    "                reproyectar_shp(ruta_completa, epsg_destino)\n",
    "\n",
    "# Ejecuta el procesamiento\n",
    "procesar_directorio(directorio_raiz)\n",
    "\n",
    "# Finalización\n",
    "print(\"Proceso finalizado\")"
   ]
  },
  {
   "cell_type": "code",
   "execution_count": null,
   "metadata": {},
   "outputs": [],
   "source": []
  }
 ],
 "metadata": {
  "kernelspec": {
   "display_name": "gds",
   "language": "python",
   "name": "python3"
  },
  "language_info": {
   "codemirror_mode": {
    "name": "ipython",
    "version": 3
   },
   "file_extension": ".py",
   "mimetype": "text/x-python",
   "name": "python",
   "nbconvert_exporter": "python",
   "pygments_lexer": "ipython3",
   "version": "3.8.12"
  }
 },
 "nbformat": 4,
 "nbformat_minor": 2
}
