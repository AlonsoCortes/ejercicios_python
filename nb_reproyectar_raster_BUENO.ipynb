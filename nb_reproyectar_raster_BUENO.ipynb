{
 "cells": [
  {
   "cell_type": "code",
   "execution_count": 3,
   "metadata": {},
   "outputs": [
    {
     "name": "stdout",
     "output_type": "stream",
     "text": [
      "Reproyectando: C:/Users/aloac/Documents/reproyeccion/prueba\\D1-02-05_Susceptibilidad a Hundimientos\\R15065_hundimientos_USGS_2024.tif\n",
      "✔ R15065_hundimientos_USGS_2024.tif reproyectado y sobrescrito.\n",
      "Reproyectando: C:/Users/aloac/Documents/reproyeccion/prueba\\D1-02-05_Susceptibilidad a Inestabilidad de Laderas\\R15065_inestabilidad_ladera_USGS_2024.tif\n",
      "✔ R15065_inestabilidad_ladera_USGS_2024.tif reproyectado y sobrescrito.\n",
      "Reproyectando: C:/Users/aloac/Documents/reproyeccion/prueba\\D1-02-07_Precipitación media diaria para un periodo de retorno de 10, 50 y 100 años\\R15065_precipitacion_media_diaria_100a_UNAM_2014.tif\n",
      "✔ R15065_precipitacion_media_diaria_100a_UNAM_2014.tif reproyectado y sobrescrito.\n",
      "Reproyectando: C:/Users/aloac/Documents/reproyeccion/prueba\\D1-02-07_Precipitación media diaria para un periodo de retorno de 10, 50 y 100 años\\R15065_precipitacion_media_diaria_10a_UNAM_2014.tif\n",
      "✔ R15065_precipitacion_media_diaria_10a_UNAM_2014.tif reproyectado y sobrescrito.\n",
      "Reproyectando: C:/Users/aloac/Documents/reproyeccion/prueba\\D1-02-07_Precipitación media diaria para un periodo de retorno de 10, 50 y 100 años\\R15065_precipitacion_media_diaria_50a_UNAM_2014.tif\n",
      "✔ R15065_precipitacion_media_diaria_50a_UNAM_2014.tif reproyectado y sobrescrito.\n"
     ]
    }
   ],
   "source": [
    "import os\n",
    "import rasterio\n",
    "from rasterio.warp import calculate_default_transform, reproject, Resampling\n",
    "\n",
    "# Ruta raíz donde están las carpetas con archivos .tif\n",
    "ruta_raiz = \"C:/Users/aloac/Documents/reproyeccion/prueba\"\n",
    "\n",
    "# EPSG de destino\n",
    "epsg_destino = 32614\n",
    "\n",
    "def reproyectar_raster(archivo_tif):\n",
    "    # Nombre temporal para evitar conflictos al sobrescribir\n",
    "    archivo_temp = archivo_tif.replace(\".tif\", \"_temp.tif\")\n",
    "    \n",
    "    with rasterio.open(archivo_tif) as src:\n",
    "        transform, width, height = calculate_default_transform(\n",
    "            src.crs, f\"EPSG:{epsg_destino}\", src.width, src.height, *src.bounds\n",
    "        )\n",
    "        perfil = src.profile.copy()\n",
    "        perfil.update({\n",
    "            \"crs\": f\"EPSG:{epsg_destino}\",\n",
    "            \"transform\": transform,\n",
    "            \"width\": width,\n",
    "            \"height\": height\n",
    "        })\n",
    "\n",
    "        with rasterio.open(archivo_temp, \"w\", **perfil) as dst:\n",
    "            for i in range(1, src.count + 1):\n",
    "                reproject(\n",
    "                    source=rasterio.band(src, i),\n",
    "                    destination=rasterio.band(dst, i),\n",
    "                    src_transform=src.transform,\n",
    "                    src_crs=src.crs,\n",
    "                    dst_transform=transform,\n",
    "                    dst_crs=f\"EPSG:{epsg_destino}\",\n",
    "                    resampling=Resampling.nearest\n",
    "                )\n",
    "\n",
    "    # Cerrar los archivos antes de reemplazar\n",
    "    os.remove(archivo_tif)  # Eliminar el original\n",
    "    os.rename(archivo_temp, archivo_tif)  # Renombrar el reproyectado\n",
    "\n",
    "# Recorrer las carpetas y procesar los archivos .tif\n",
    "for carpeta_raiz, subcarpetas, archivos in os.walk(ruta_raiz):\n",
    "    for archivo in archivos:\n",
    "        if archivo.endswith(\".tif\"):\n",
    "            ruta_completa = os.path.join(carpeta_raiz, archivo)\n",
    "            print(f\"Reproyectando: {ruta_completa}\")\n",
    "            reproyectar_raster(ruta_completa)\n",
    "            print(f\"✔ {archivo} reproyectado y sobrescrito.\")"
   ]
  },
  {
   "cell_type": "code",
   "execution_count": null,
   "metadata": {},
   "outputs": [],
   "source": []
  },
  {
   "cell_type": "code",
   "execution_count": null,
   "metadata": {},
   "outputs": [],
   "source": []
  },
  {
   "cell_type": "code",
   "execution_count": null,
   "metadata": {},
   "outputs": [],
   "source": []
  }
 ],
 "metadata": {
  "kernelspec": {
   "display_name": "gds_1",
   "language": "python",
   "name": "python3"
  },
  "language_info": {
   "codemirror_mode": {
    "name": "ipython",
    "version": 3
   },
   "file_extension": ".py",
   "mimetype": "text/x-python",
   "name": "python",
   "nbconvert_exporter": "python",
   "pygments_lexer": "ipython3",
   "version": "3.12.8"
  }
 },
 "nbformat": 4,
 "nbformat_minor": 2
}
